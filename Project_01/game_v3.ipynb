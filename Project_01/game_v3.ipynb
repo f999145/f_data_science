{
 "cells": [
  {
   "cell_type": "markdown",
   "metadata": {},
   "source": [
    "## Guess the number game"
   ]
  },
  {
   "cell_type": "code",
   "execution_count": 2,
   "metadata": {},
   "outputs": [],
   "source": [
    "\"\"\"The computer guesses the number and guesses the number by itself.\n",
    "    And it does it in less than 20 attempts.\n",
    "\"\"\"\n",
    "import numpy as np\n",
    "\n",
    "\n",
    "def random_predict(number:int=1) -> int:\n",
    "    \"\"\"Guessing a random number\n",
    "\n",
    "    Args:\n",
    "        number (int): The number you're looking for. Defaults to 1.\n",
    "\n",
    "    Returns:\n",
    "        int: Number of attempts\n",
    "    \"\"\"\n",
    "    \n",
    "    count = 0\n",
    "    \n",
    "    left_side = 1       # Denote the boundaries of the interval,\n",
    "    right_side = 100    # within which we will search for the target number.\n",
    "    mid_num = 0\n",
    "    \n",
    "    while True:\n",
    "        count += 1\n",
    "        \n",
    "        # First, we check if the number is on \n",
    "        # the boundaries of the interval 1 - 100.\n",
    "        if count == 1:\n",
    "            if left_side == number:\n",
    "                return (count)\n",
    "            count += 1\n",
    "            \n",
    "            if right_side == number:\n",
    "                return (count)\n",
    "            count += 1\n",
    "        \n",
    "        \n",
    "        # Find the middle of the interval.\n",
    "        mid_num = (left_side + right_side)//2 \n",
    "        \n",
    "        # If the middle of the interval is not the target number.\n",
    "        # Then we move the boundary to the middle of the interval,\n",
    "        # depending on whether it is greater or less than the target number.\n",
    "        if mid_num == number:\n",
    "            return (count)\n",
    "        elif mid_num > number:\n",
    "            right_side = mid_num\n",
    "        else:\n",
    "            left_side = mid_num\n",
    "\n",
    "\n",
    "def score_game(random_predict) -> int:\n",
    "    \"\"\"Calculate the average number of attempts for 1000 attempts\n",
    "\n",
    "    Args:\n",
    "        random_predict (_type_): The guessing function\n",
    "\n",
    "    Returns:\n",
    "        int: Average number of attempts\n",
    "    \"\"\"\n",
    "    count_ls = []\n",
    "    random_array = np.random.randint(1,101, size=(1000))\n",
    "\n",
    "    for number in random_array:\n",
    "        count_ls.append(random_predict(number))\n",
    "    \n",
    "    score = int(np.mean(count_ls))\n",
    "    \n",
    "    return (score)\n"
   ]
  },
  {
   "cell_type": "markdown",
   "metadata": {},
   "source": [
    "### Find the number and calculate the average number of attempts out of 1000 approaches."
   ]
  },
  {
   "cell_type": "code",
   "execution_count": 3,
   "metadata": {},
   "outputs": [
    {
     "name": "stdout",
     "output_type": "stream",
     "text": [
      "The algorithm finds the number from 1 to 100 in an average of 7 attempts\n"
     ]
    }
   ],
   "source": [
    " score = score_game(random_predict)\n",
    " print(f'The algorithm finds the number from 1 to 100 in an average of {score} attempts')"
   ]
  },
  {
   "cell_type": "code",
   "execution_count": null,
   "metadata": {},
   "outputs": [],
   "source": []
  }
 ],
 "metadata": {
  "kernelspec": {
   "display_name": "Python 3.10.5 64-bit",
   "language": "python",
   "name": "python3"
  },
  "language_info": {
   "codemirror_mode": {
    "name": "ipython",
    "version": 3
   },
   "file_extension": ".py",
   "mimetype": "text/x-python",
   "name": "python",
   "nbconvert_exporter": "python",
   "pygments_lexer": "ipython3",
   "version": "3.10.5"
  },
  "orig_nbformat": 4,
  "vscode": {
   "interpreter": {
    "hash": "64e570b297780701c757e5733baf6d8813a7f88beef7ea767e3301916a17f157"
   }
  }
 },
 "nbformat": 4,
 "nbformat_minor": 2
}
