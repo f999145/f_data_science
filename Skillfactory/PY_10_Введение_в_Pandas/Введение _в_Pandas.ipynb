{
 "cells": [
  {
   "cell_type": "code",
   "execution_count": 7,
   "metadata": {},
   "outputs": [
    {
     "name": "stdout",
     "output_type": "stream",
     "text": [
      "Python 3.10.5\n",
      "NumPy 1.23.0\n",
      "Pandas 1.4.3\n"
     ]
    }
   ],
   "source": [
    "import sys\n",
    "print(f'Python {sys.version_info.major}.{sys.version_info.minor}.{sys.version_info.micro}')\n",
    "import numpy as np\n",
    "print(f'NumPy {np.__version__}')\n",
    "import pandas as pd\n",
    "print(f'Pandas {pd.__version__}')\n",
    "#Python 3.10.5\n",
    "#NumPy 1.23.0\n",
    "#Pandas 1.4.3"
   ]
  },
  {
   "cell_type": "code",
   "execution_count": null,
   "metadata": {
    "vscode": {
     "languageId": "html"
    }
   },
   "outputs": [],
   "source": [
    "<p style=\"color:royalblue;\"> Задание 2.6 </p>\n",
    "<p style=\"color:orangered;\"> Задание 2.6 </p>\n",
    "\n",
    "<style>\n",
    "    b { color: royalblue} \n",
    "    o { color: orangered}\n",
    "</style>\n",
    "<b></b>\n",
    "<o></o>"
   ]
  },
  {
   "cell_type": "markdown",
   "metadata": {},
   "source": [
    "<style>\n",
    "    b { color: royalblue} \n",
    "    o { color: orangered}\n",
    "</style>\n",
    "\n",
    "### <o>***Series***</o> — это упорядоченная изменяемая коллекция объектов, имеющая так называемые ассоциативные метки (индексы). \n",
    "#### Есть два способа создания ***Series***\n",
    "\n",
    "##### Первый способ:\n"
   ]
  },
  {
   "cell_type": "code",
   "execution_count": 5,
   "metadata": {},
   "outputs": [
    {
     "data": {
      "text/plain": [
       "UK       Англия\n",
       "CA       Канада\n",
       "US          США\n",
       "RU       Россия\n",
       "UA      Украина\n",
       "BY     Беларусь\n",
       "KZ    Казахстан\n",
       "Name: countries, dtype: object"
      ]
     },
     "metadata": {},
     "output_type": "display_data"
    }
   ],
   "source": [
    "countries = pd.Series(\n",
    "    data = ['Англия', 'Канада', 'США', 'Россия', 'Украина', 'Беларусь', 'Казахстан'],\n",
    "    index = ['UK', 'CA', 'US', 'RU', 'UA', 'BY', 'KZ'],\n",
    "    name = 'countries'\n",
    ")\n",
    "display(countries)"
   ]
  },
  {
   "cell_type": "markdown",
   "metadata": {},
   "source": [
    "##### Второй способ:"
   ]
  },
  {
   "cell_type": "code",
   "execution_count": 6,
   "metadata": {},
   "outputs": [
    {
     "data": {
      "text/plain": [
       "UK       Англия\n",
       "CA       Канада\n",
       "US          США\n",
       "RU       Россия\n",
       "UA      Украина\n",
       "BY     Беларусь\n",
       "KZ    Казахстан\n",
       "Name: countries, dtype: object"
      ]
     },
     "metadata": {},
     "output_type": "display_data"
    }
   ],
   "source": [
    "countries = pd.Series({\n",
    "    'UK': 'Англия',\n",
    "    'CA': 'Канада',\n",
    "    'US' : 'США',\n",
    "    'RU': 'Россия',\n",
    "    'UA': 'Украина',\n",
    "    'BY': 'Беларусь',\n",
    "    'KZ': 'Казахстан'},\n",
    "    name = 'countries'\n",
    ")\n",
    "display(countries)"
   ]
  },
  {
   "cell_type": "markdown",
   "metadata": {},
   "source": [
    "<style>\n",
    "    b { color: royalblue} \n",
    "    o { color: orangered}\n",
    "</style>\n",
    "##### <b>***.loc***</b> вызывается с квадратными скобками, в которые передаются метки. В него можно передать как один индекс, так и список, чтобы получилось несколько элементов. \n",
    "##### <b>***.iloc***</b> также вызывается с квадратными скобками и принимает на вход порядковые номера элементов Series (нумерация начинаются с 0). В него можно так же передавать как один индекс, так и диапазон чисел. "
   ]
  },
  {
   "cell_type": "code",
   "execution_count": null,
   "metadata": {},
   "outputs": [],
   "source": [
    "print(countries.loc['US'])\n",
    "# США\n",
    "\n",
    "print(countries.loc[['US', 'RU', 'UK']])\n",
    "# US       США\n",
    "# RU    Россия\n",
    "# UK    Англия\n",
    "# Name: countries, dtype: object\n",
    "\n",
    "print(countries.iloc[6])\n",
    "# Казахстан\n",
    "\n",
    "print(countries.iloc[1:4])\n",
    "# CA    Канада\n",
    "# US       США\n",
    "# RU    Россия\n",
    "# Name: countries, dtype: object"
   ]
  },
  {
   "cell_type": "markdown",
   "metadata": {},
   "source": [
    "##### *На самом деле ***loc*** и ***iloc*** можно опустить и обращаться к элементам ***Series*** напрямую по индексам, например ***countries[[‘UK’, 'US', ‘UA’]]*** или ***countries[[0, 2, 4]]***. Оба варианта являются равноправными для ***Series***, однако в дальнейшем мы будем использовать эти операции при обращении к более сложной структуре — ***DataFrame***, а в контексте этой структуры эти варианты уже неравноправны.*"
   ]
  }
 ],
 "metadata": {
  "kernelspec": {
   "display_name": "Python 3.10.5 64-bit",
   "language": "python",
   "name": "python3"
  },
  "language_info": {
   "codemirror_mode": {
    "name": "ipython",
    "version": 3
   },
   "file_extension": ".py",
   "mimetype": "text/x-python",
   "name": "python",
   "nbconvert_exporter": "python",
   "pygments_lexer": "ipython3",
   "version": "3.10.5"
  },
  "orig_nbformat": 4,
  "vscode": {
   "interpreter": {
    "hash": "7abcd1992d0154f831805bf55a8b41138aec866d8feccf05874b9041f9985490"
   }
  }
 },
 "nbformat": 4,
 "nbformat_minor": 2
}
