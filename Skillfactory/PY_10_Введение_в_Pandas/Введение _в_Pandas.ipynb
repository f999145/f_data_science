{
 "cells": [
  {
   "cell_type": "code",
   "execution_count": 15,
   "metadata": {},
   "outputs": [
    {
     "name": "stdout",
     "output_type": "stream",
     "text": [
      "python 3.10\n",
      "NumPy 1.23.0\n"
     ]
    }
   ],
   "source": [
    "print(f'python {sys.version_info.major}.{sys.version_info.minor}')\n",
    "import numpy as np\n",
    "print(f'NumPy {np.__version__}')\n"
   ]
  }
 ],
 "metadata": {
  "kernelspec": {
   "display_name": "Python 3.10.5 64-bit",
   "language": "python",
   "name": "python3"
  },
  "language_info": {
   "codemirror_mode": {
    "name": "ipython",
    "version": 3
   },
   "file_extension": ".py",
   "mimetype": "text/x-python",
   "name": "python",
   "nbconvert_exporter": "python",
   "pygments_lexer": "ipython3",
   "version": "3.10.5"
  },
  "orig_nbformat": 4,
  "vscode": {
   "interpreter": {
    "hash": "7abcd1992d0154f831805bf55a8b41138aec866d8feccf05874b9041f9985490"
   }
  }
 },
 "nbformat": 4,
 "nbformat_minor": 2
}
