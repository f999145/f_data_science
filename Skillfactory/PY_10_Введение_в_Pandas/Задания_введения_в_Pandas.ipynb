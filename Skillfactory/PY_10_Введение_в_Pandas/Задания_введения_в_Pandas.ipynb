{
 "cells": [
  {
   "cell_type": "markdown",
   "metadata": {},
   "source": [
    "### <p style=\"color:orangered;\"> Задание 2.6 </p>\n",
    "\n",
    "В аптеку поступают партии лекарств. Их названия находятся в списке names, количество единиц товара находится в списке counts.\n",
    "\n",
    "Например:\n",
    "\n",
    "```python\n",
    "names=['chlorhexidine', 'cyntomycin', 'afobazol']\n",
    "counts=[15, 18, 7]\n",
    "```\n",
    "\n",
    "Напишите функцию `create_medications(names, counts)`, создающую `Series medications`, индексами которого являются названия лекарств `names`, а значениями — их количество в партии `counts`.\n",
    "\n",
    "Также напишите функцию `get_percent(medications, name)`, которая возвращает долю товара с именем name от общего количества товаров в партии в процентах.\n"
   ]
  },
  {
   "cell_type": "code",
   "execution_count": 8,
   "metadata": {},
   "outputs": [
    {
     "name": "stdout",
     "output_type": "stream",
     "text": [
      "37.5\n"
     ]
    }
   ],
   "source": [
    "import pandas as pd\n",
    "\n",
    "def create_medications(names, counts):\n",
    "    medications = pd.Series(\n",
    "        data= counts,\n",
    "        index= names,\n",
    "        name= 'medications'\n",
    "    )\n",
    "\n",
    "    return medications\n",
    "def get_percent(medications, name):\n",
    "    return (medications.loc[name] / sum(medications))*100\n",
    "\n",
    "\n",
    "\n",
    "names=['chlorhexidine', 'cyntomycin', 'afobazol']\n",
    "counts=[15, 18, 7]\n",
    "medications = create_medications(names, counts)\n",
    "\n",
    "print(get_percent(medications, \"chlorhexidine\")) #37.5"
   ]
  },
  {
   "cell_type": "markdown",
   "metadata": {},
   "source": [
    "---"
   ]
  },
  {
   "cell_type": "markdown",
   "metadata": {},
   "source": [
    "### <p style=\"color:orangered;\"> Задание 3.5 </p>\n",
    "\n",
    "Вы работаете аналитиком в компании ScienceYou. Ваша задача — проанализировать чистую прибыль.\n",
    "\n",
    "Доходы `(income)`, расходы `(expenses)` и годы `(years)`, соответствующие им, предоставлены вам в виде списков. \n",
    "\n",
    "Например:\n",
    "\n",
    "```python\n",
    "income = [478, 512, 196]\n",
    "expenses = [156, 130, 270]\n",
    "years = [2018, 2019, 2020]\n",
    "```\n",
    "\n",
    "Создайте функцию *`create_companyDF(income, expenses, years)`*, которая  возвращает *`DataFrame`*, составленный из входных данных со столбцами *`Income`* и *`Expenses`* и индексами, соответствующими годам рассматриваемого периода. Пример такого DataFrame представлен ниже.\n",
    "\n",
    "|      | Income | Expenses |\n",
    "|:----:|:------:|:--------:|\n",
    "| 2018 | 478    | 156      |\n",
    "| 2019 | 512    | 130      |\n",
    "| 2020 | 196    | 270      |\n",
    "\n",
    "\n",
    "Также напишите функцию *`get_profit(df, year)`*, которая возвращает разницу между доходом и расходом, записанными в таблице *`df`*, за год *`year`*. Учтите, что если информация за запрашиваемый год не указана в вашей таблице, вам необходимо вернуть *`None`*.\n",
    "\n",
    ">Для проверки вхождения запрашиваемого года в перечень индексов таблицы вам поможет атрибут *`df.index`*, который возвращает список индексов таблицы."
   ]
  },
  {
   "cell_type": "code",
   "execution_count": 51,
   "metadata": {},
   "outputs": [
    {
     "name": "stdout",
     "output_type": "stream",
     "text": [
      "-74\n"
     ]
    }
   ],
   "source": [
    "import pandas as pd\n",
    "\n",
    "def create_companyDF(income, expenses, years):\n",
    "    df = pd.DataFrame({\n",
    "        'Income': income,\n",
    "        'Expenses': expenses\n",
    "    },\n",
    "        index = years\n",
    "    )\n",
    "    return df\n",
    "\n",
    "\n",
    "def get_profit(df, year):\n",
    "    if not year in df.index:\n",
    "        return None\n",
    "    \n",
    "    return (df.loc[year,'Income'] - df.loc[year,'Expenses'])\n",
    "\n",
    "\n",
    "expenses = [156, 130, 270]\n",
    "income = [478, 512, 196]\n",
    "years = [2018, 2019, 2020]\n",
    "\n",
    "scienceyou = create_companyDF(income, expenses, years)\n",
    "print(get_profit(scienceyou, 2020)) #-74\n"
   ]
  }
 ],
 "metadata": {
  "kernelspec": {
   "display_name": "Python 3.10.5 64-bit",
   "language": "python",
   "name": "python3"
  },
  "language_info": {
   "codemirror_mode": {
    "name": "ipython",
    "version": 3
   },
   "file_extension": ".py",
   "mimetype": "text/x-python",
   "name": "python",
   "nbconvert_exporter": "python",
   "pygments_lexer": "ipython3",
   "version": "3.10.5"
  },
  "orig_nbformat": 4,
  "vscode": {
   "interpreter": {
    "hash": "7abcd1992d0154f831805bf55a8b41138aec866d8feccf05874b9041f9985490"
   }
  }
 },
 "nbformat": 4,
 "nbformat_minor": 2
}
